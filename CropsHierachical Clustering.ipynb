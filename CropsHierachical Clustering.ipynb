{
 "cells": [
  {
   "cell_type": "code",
   "execution_count": 3,
   "metadata": {},
   "outputs": [
    {
     "name": "stdout",
     "output_type": "stream",
     "text": [
      "Requirement already satisfied: panda in c:\\users\\user\\anaconda3\\lib\\site-packages (0.3.1)\n",
      "Requirement already satisfied: requests in c:\\users\\user\\anaconda3\\lib\\site-packages (from panda) (2.21.0)\n",
      "Requirement already satisfied: setuptools in c:\\users\\user\\anaconda3\\lib\\site-packages (from panda) (40.6.3)\n",
      "Requirement already satisfied: chardet<3.1.0,>=3.0.2 in c:\\users\\user\\anaconda3\\lib\\site-packages (from requests->panda) (3.0.4)\n",
      "Requirement already satisfied: urllib3<1.25,>=1.21.1 in c:\\users\\user\\anaconda3\\lib\\site-packages (from requests->panda) (1.24.1)\n",
      "Requirement already satisfied: certifi>=2017.4.17 in c:\\users\\user\\anaconda3\\lib\\site-packages (from requests->panda) (2018.11.29)\n",
      "Requirement already satisfied: idna<2.9,>=2.5 in c:\\users\\user\\anaconda3\\lib\\site-packages (from requests->panda) (2.8)\n",
      "Requirement already satisfied: scipy in c:\\users\\user\\anaconda3\\lib\\site-packages (1.1.0)\n"
     ]
    }
   ],
   "source": [
    "!pip install panda\n",
    "!pip install scipy"
   ]
  },
  {
   "cell_type": "code",
   "execution_count": null,
   "metadata": {},
   "outputs": [],
   "source": [
    "import pandas as pd\n",
    "import numpy as np\n",
    "import matplotlib.pyplot as plt\n",
    "import seaborn as sns\n",
    "%matplotlib inline\n",
    "\n"
   ]
  },
  {
   "cell_type": "code",
   "execution_count": 9,
   "metadata": {
    "scrolled": true
   },
   "outputs": [],
   "source": [
    "data=pd.read_csv('C:/Users/USER/Desktop/fatima/Dataset.csv') #importing the dataset"
   ]
  },
  {
   "cell_type": "code",
   "execution_count": 3,
   "metadata": {},
   "outputs": [
    {
     "data": {
      "text/html": [
       "<div>\n",
       "<style scoped>\n",
       "    .dataframe tbody tr th:only-of-type {\n",
       "        vertical-align: middle;\n",
       "    }\n",
       "\n",
       "    .dataframe tbody tr th {\n",
       "        vertical-align: top;\n",
       "    }\n",
       "\n",
       "    .dataframe thead th {\n",
       "        text-align: right;\n",
       "    }\n",
       "</style>\n",
       "<table border=\"1\" class=\"dataframe\">\n",
       "  <thead>\n",
       "    <tr style=\"text-align: right;\">\n",
       "      <th></th>\n",
       "      <th>Domain Code</th>\n",
       "      <th>Domain</th>\n",
       "      <th>Area Code</th>\n",
       "      <th>Area</th>\n",
       "      <th>Element Code</th>\n",
       "      <th>Element</th>\n",
       "      <th>Item Code</th>\n",
       "      <th>Item</th>\n",
       "      <th>Year Code</th>\n",
       "      <th>Year</th>\n",
       "      <th>Unit</th>\n",
       "      <th>Value</th>\n",
       "      <th>Flag</th>\n",
       "      <th>Flag Description</th>\n",
       "    </tr>\n",
       "  </thead>\n",
       "  <tbody>\n",
       "    <tr>\n",
       "      <th>0</th>\n",
       "      <td>QC</td>\n",
       "      <td>Crops</td>\n",
       "      <td>159</td>\n",
       "      <td>Nigeria</td>\n",
       "      <td>5312</td>\n",
       "      <td>Area harvested</td>\n",
       "      <td>125</td>\n",
       "      <td>Cassava</td>\n",
       "      <td>2012</td>\n",
       "      <td>2012</td>\n",
       "      <td>ha</td>\n",
       "      <td>6401996</td>\n",
       "      <td>NaN</td>\n",
       "      <td>Official data</td>\n",
       "    </tr>\n",
       "    <tr>\n",
       "      <th>1</th>\n",
       "      <td>QC</td>\n",
       "      <td>Crops</td>\n",
       "      <td>159</td>\n",
       "      <td>Nigeria</td>\n",
       "      <td>5312</td>\n",
       "      <td>Area harvested</td>\n",
       "      <td>125</td>\n",
       "      <td>Cassava</td>\n",
       "      <td>2013</td>\n",
       "      <td>2013</td>\n",
       "      <td>ha</td>\n",
       "      <td>6741300</td>\n",
       "      <td>NaN</td>\n",
       "      <td>Official data</td>\n",
       "    </tr>\n",
       "    <tr>\n",
       "      <th>2</th>\n",
       "      <td>QC</td>\n",
       "      <td>Crops</td>\n",
       "      <td>159</td>\n",
       "      <td>Nigeria</td>\n",
       "      <td>5312</td>\n",
       "      <td>Area harvested</td>\n",
       "      <td>125</td>\n",
       "      <td>Cassava</td>\n",
       "      <td>2014</td>\n",
       "      <td>2014</td>\n",
       "      <td>ha</td>\n",
       "      <td>6458435</td>\n",
       "      <td>NaN</td>\n",
       "      <td>Official data</td>\n",
       "    </tr>\n",
       "    <tr>\n",
       "      <th>3</th>\n",
       "      <td>QC</td>\n",
       "      <td>Crops</td>\n",
       "      <td>159</td>\n",
       "      <td>Nigeria</td>\n",
       "      <td>5312</td>\n",
       "      <td>Area harvested</td>\n",
       "      <td>125</td>\n",
       "      <td>Cassava</td>\n",
       "      <td>2015</td>\n",
       "      <td>2015</td>\n",
       "      <td>ha</td>\n",
       "      <td>6216434</td>\n",
       "      <td>NaN</td>\n",
       "      <td>Official data</td>\n",
       "    </tr>\n",
       "    <tr>\n",
       "      <th>4</th>\n",
       "      <td>QC</td>\n",
       "      <td>Crops</td>\n",
       "      <td>159</td>\n",
       "      <td>Nigeria</td>\n",
       "      <td>5312</td>\n",
       "      <td>Area harvested</td>\n",
       "      <td>125</td>\n",
       "      <td>Cassava</td>\n",
       "      <td>2016</td>\n",
       "      <td>2016</td>\n",
       "      <td>ha</td>\n",
       "      <td>6150574</td>\n",
       "      <td>Im</td>\n",
       "      <td>FAO data based on imputation methodology</td>\n",
       "    </tr>\n",
       "  </tbody>\n",
       "</table>\n",
       "</div>"
      ],
      "text/plain": [
       "  Domain Code Domain  Area Code     Area  Element Code         Element  \\\n",
       "0          QC  Crops        159  Nigeria          5312  Area harvested   \n",
       "1          QC  Crops        159  Nigeria          5312  Area harvested   \n",
       "2          QC  Crops        159  Nigeria          5312  Area harvested   \n",
       "3          QC  Crops        159  Nigeria          5312  Area harvested   \n",
       "4          QC  Crops        159  Nigeria          5312  Area harvested   \n",
       "\n",
       "   Item Code     Item  Year Code  Year Unit    Value Flag  \\\n",
       "0        125  Cassava       2012  2012   ha  6401996  NaN   \n",
       "1        125  Cassava       2013  2013   ha  6741300  NaN   \n",
       "2        125  Cassava       2014  2014   ha  6458435  NaN   \n",
       "3        125  Cassava       2015  2015   ha  6216434  NaN   \n",
       "4        125  Cassava       2016  2016   ha  6150574   Im   \n",
       "\n",
       "                           Flag Description  \n",
       "0                             Official data  \n",
       "1                             Official data  \n",
       "2                             Official data  \n",
       "3                             Official data  \n",
       "4  FAO data based on imputation methodology  "
      ]
     },
     "execution_count": 3,
     "metadata": {},
     "output_type": "execute_result"
    }
   ],
   "source": [
    "data.head()"
   ]
  },
  {
   "cell_type": "code",
   "execution_count": 10,
   "metadata": {},
   "outputs": [],
   "source": [
    "x=data.iloc[:, [2,11]].values"
   ]
  },
  {
   "cell_type": "code",
   "execution_count": 11,
   "metadata": {},
   "outputs": [
    {
     "data": {
      "text/html": [
       "<div>\n",
       "<style scoped>\n",
       "    .dataframe tbody tr th:only-of-type {\n",
       "        vertical-align: middle;\n",
       "    }\n",
       "\n",
       "    .dataframe tbody tr th {\n",
       "        vertical-align: top;\n",
       "    }\n",
       "\n",
       "    .dataframe thead th {\n",
       "        text-align: right;\n",
       "    }\n",
       "</style>\n",
       "<table border=\"1\" class=\"dataframe\">\n",
       "  <thead>\n",
       "    <tr style=\"text-align: right;\">\n",
       "      <th></th>\n",
       "      <th>Domain Code</th>\n",
       "      <th>Domain</th>\n",
       "      <th>Area Code</th>\n",
       "      <th>Area</th>\n",
       "      <th>Element Code</th>\n",
       "      <th>Element</th>\n",
       "      <th>Item Code</th>\n",
       "      <th>Item</th>\n",
       "      <th>Year Code</th>\n",
       "      <th>Year</th>\n",
       "      <th>Unit</th>\n",
       "      <th>Value</th>\n",
       "      <th>Flag</th>\n",
       "      <th>Flag Description</th>\n",
       "    </tr>\n",
       "  </thead>\n",
       "  <tbody>\n",
       "    <tr>\n",
       "      <th>139</th>\n",
       "      <td>QC</td>\n",
       "      <td>Crops</td>\n",
       "      <td>159</td>\n",
       "      <td>Nigeria</td>\n",
       "      <td>5510</td>\n",
       "      <td>Production</td>\n",
       "      <td>137</td>\n",
       "      <td>Yams</td>\n",
       "      <td>2013</td>\n",
       "      <td>2013</td>\n",
       "      <td>tonnes</td>\n",
       "      <td>35618420</td>\n",
       "      <td>NaN</td>\n",
       "      <td>Official data</td>\n",
       "    </tr>\n",
       "    <tr>\n",
       "      <th>140</th>\n",
       "      <td>QC</td>\n",
       "      <td>Crops</td>\n",
       "      <td>159</td>\n",
       "      <td>Nigeria</td>\n",
       "      <td>5510</td>\n",
       "      <td>Production</td>\n",
       "      <td>137</td>\n",
       "      <td>Yams</td>\n",
       "      <td>2014</td>\n",
       "      <td>2014</td>\n",
       "      <td>tonnes</td>\n",
       "      <td>45151589</td>\n",
       "      <td>NaN</td>\n",
       "      <td>Official data</td>\n",
       "    </tr>\n",
       "    <tr>\n",
       "      <th>141</th>\n",
       "      <td>QC</td>\n",
       "      <td>Crops</td>\n",
       "      <td>159</td>\n",
       "      <td>Nigeria</td>\n",
       "      <td>5510</td>\n",
       "      <td>Production</td>\n",
       "      <td>137</td>\n",
       "      <td>Yams</td>\n",
       "      <td>2015</td>\n",
       "      <td>2015</td>\n",
       "      <td>tonnes</td>\n",
       "      <td>45677939</td>\n",
       "      <td>NaN</td>\n",
       "      <td>Official data</td>\n",
       "    </tr>\n",
       "    <tr>\n",
       "      <th>142</th>\n",
       "      <td>QC</td>\n",
       "      <td>Crops</td>\n",
       "      <td>159</td>\n",
       "      <td>Nigeria</td>\n",
       "      <td>5510</td>\n",
       "      <td>Production</td>\n",
       "      <td>137</td>\n",
       "      <td>Yams</td>\n",
       "      <td>2016</td>\n",
       "      <td>2016</td>\n",
       "      <td>tonnes</td>\n",
       "      <td>49384352</td>\n",
       "      <td>NaN</td>\n",
       "      <td>Official data</td>\n",
       "    </tr>\n",
       "    <tr>\n",
       "      <th>143</th>\n",
       "      <td>QC</td>\n",
       "      <td>Crops</td>\n",
       "      <td>159</td>\n",
       "      <td>Nigeria</td>\n",
       "      <td>5510</td>\n",
       "      <td>Production</td>\n",
       "      <td>137</td>\n",
       "      <td>Yams</td>\n",
       "      <td>2017</td>\n",
       "      <td>2017</td>\n",
       "      <td>tonnes</td>\n",
       "      <td>47942712</td>\n",
       "      <td>Im</td>\n",
       "      <td>FAO data based on imputation methodology</td>\n",
       "    </tr>\n",
       "  </tbody>\n",
       "</table>\n",
       "</div>"
      ],
      "text/plain": [
       "    Domain Code Domain  Area Code     Area  Element Code     Element  \\\n",
       "139          QC  Crops        159  Nigeria          5510  Production   \n",
       "140          QC  Crops        159  Nigeria          5510  Production   \n",
       "141          QC  Crops        159  Nigeria          5510  Production   \n",
       "142          QC  Crops        159  Nigeria          5510  Production   \n",
       "143          QC  Crops        159  Nigeria          5510  Production   \n",
       "\n",
       "     Item Code  Item  Year Code  Year    Unit     Value Flag  \\\n",
       "139        137  Yams       2013  2013  tonnes  35618420  NaN   \n",
       "140        137  Yams       2014  2014  tonnes  45151589  NaN   \n",
       "141        137  Yams       2015  2015  tonnes  45677939  NaN   \n",
       "142        137  Yams       2016  2016  tonnes  49384352  NaN   \n",
       "143        137  Yams       2017  2017  tonnes  47942712   Im   \n",
       "\n",
       "                             Flag Description  \n",
       "139                             Official data  \n",
       "140                             Official data  \n",
       "141                             Official data  \n",
       "142                             Official data  \n",
       "143  FAO data based on imputation methodology  "
      ]
     },
     "execution_count": 11,
     "metadata": {},
     "output_type": "execute_result"
    }
   ],
   "source": [
    "data.tail()"
   ]
  },
  {
   "cell_type": "code",
   "execution_count": 12,
   "metadata": {},
   "outputs": [
    {
     "data": {
      "image/png": "[encoded data removed]",
      "text/plain": [
       "<Figure size 432x288 with 1 Axes>"
      ]
     },
     "metadata": {
      "needs_background": "light"
     },
     "output_type": "display_data"
    }
   ],
   "source": [
    "ax = sns.countplot(x='Item', data=data, order=['Yams', 'Cassava'])\n",
    "for p in ax.patches:\n",
    "    ax.annotate('{:.2f}%'.format((p.get_height() * 100) / len(data)), (p.get_x() + 0.24, p.get_height() + 2))\n",
    "plt.show()"
   ]
  },
  {
   "cell_type": "code",
   "execution_count": 13,
   "metadata": {},
   "outputs": [],
   "source": [
    "#using the dendogram\n",
    "import scipy.cluster.hierarchy as sch"
   ]
  },
  {
   "cell_type": "code",
   "execution_count": 14,
   "metadata": {},
   "outputs": [
    {
     "data": {
      "image/png": "[encoded data removed]",
      "text/plain": [
       "<Figure size 432x288 with 1 Axes>"
      ]
     },
     "metadata": {
      "needs_background": "light"
     },
     "output_type": "display_data"
    }
   ],
   "source": [
    "dendrogram=sch.dendrogram(sch.linkage(x, method='ward'))\n",
    "plt.rcParams[\"figure.figsize\"] = (15,20)\n",
    "plt.title('Dendrogram')\n",
    "plt.xlabel('Crops')\n",
    "plt.ylabel('Euclidean distance')\n",
    "plt.show()"
   ]
  },
  {
   "cell_type": "code",
   "execution_count": null,
   "metadata": {},
   "outputs": [],
   "source": [
    "#create the model to fit the hierachical clustering"
   ]
  },
  {
   "cell_type": "code",
   "execution_count": 15,
   "metadata": {},
   "outputs": [],
   "source": [
    "from sklearn.cluster import AgglomerativeClustering\n",
    "hc=AgglomerativeClustering(n_clusters=5, affinity='euclidean', linkage='ward')\n",
    "y_hc=hc.fit_predict(x)"
   ]
  },
  {
   "cell_type": "code",
   "execution_count": 21,
   "metadata": {},
   "outputs": [
    {
     "data": {
      "text/plain": [
       "<matplotlib.collections.PathCollection at 0x57b26a0>"
      ]
     },
     "execution_count": 21,
     "metadata": {},
     "output_type": "execute_result"
    },
    {
     "data": {
      "image/png": "[encoded data removed]",
      "text/plain": [
       "<Figure size 1080x360 with 1 Axes>"
      ]
     },
     "metadata": {
      "needs_background": "light"
     },
     "output_type": "display_data"
    }
   ],
   "source": [
    "plt.rcParams[\"figure.figsize\"] = (15,5)\n",
    "plt.scatter(x[y_hc==0,0], x[y_hc==0,1], s=50, c='red', label='cluster1')\n",
    "plt.scatter(x[y_hc==1,0], x[y_hc==1,1], s=50, c='blue', label='cluster2')\n",
    "plt.scatter(x[y_hc==2,0], x[y_hc==2,1], s=50, c='green', label='cluster3')\n"
   ]
  },
  {
   "cell_type": "code",
   "execution_count": 53,
   "metadata": {},
   "outputs": [
    {
     "data": {
      "text/html": [
       "<div>\n",
       "<style scoped>\n",
       "    .dataframe tbody tr th:only-of-type {\n",
       "        vertical-align: middle;\n",
       "    }\n",
       "\n",
       "    .dataframe tbody tr th {\n",
       "        vertical-align: top;\n",
       "    }\n",
       "\n",
       "    .dataframe thead th {\n",
       "        text-align: right;\n",
       "    }\n",
       "</style>\n",
       "<table border=\"1\" class=\"dataframe\">\n",
       "  <thead>\n",
       "    <tr style=\"text-align: right;\">\n",
       "      <th></th>\n",
       "      <th>Domain Code</th>\n",
       "      <th>Domain</th>\n",
       "      <th>Area Code</th>\n",
       "      <th>Area</th>\n",
       "      <th>Element Code</th>\n",
       "      <th>Element</th>\n",
       "      <th>Item Code</th>\n",
       "      <th>Item</th>\n",
       "      <th>Year Code</th>\n",
       "      <th>Year</th>\n",
       "      <th>Unit</th>\n",
       "      <th>Value</th>\n",
       "      <th>Flag</th>\n",
       "      <th>Flag Description</th>\n",
       "    </tr>\n",
       "  </thead>\n",
       "  <tbody>\n",
       "    <tr>\n",
       "      <th>139</th>\n",
       "      <td>QC</td>\n",
       "      <td>Crops</td>\n",
       "      <td>159</td>\n",
       "      <td>Nigeria</td>\n",
       "      <td>5510</td>\n",
       "      <td>Production</td>\n",
       "      <td>137</td>\n",
       "      <td>Yams</td>\n",
       "      <td>2013</td>\n",
       "      <td>2013</td>\n",
       "      <td>tonnes</td>\n",
       "      <td>35618420</td>\n",
       "      <td>NaN</td>\n",
       "      <td>Official data</td>\n",
       "    </tr>\n",
       "    <tr>\n",
       "      <th>140</th>\n",
       "      <td>QC</td>\n",
       "      <td>Crops</td>\n",
       "      <td>159</td>\n",
       "      <td>Nigeria</td>\n",
       "      <td>5510</td>\n",
       "      <td>Production</td>\n",
       "      <td>137</td>\n",
       "      <td>Yams</td>\n",
       "      <td>2014</td>\n",
       "      <td>2014</td>\n",
       "      <td>tonnes</td>\n",
       "      <td>45151589</td>\n",
       "      <td>NaN</td>\n",
       "      <td>Official data</td>\n",
       "    </tr>\n",
       "    <tr>\n",
       "      <th>141</th>\n",
       "      <td>QC</td>\n",
       "      <td>Crops</td>\n",
       "      <td>159</td>\n",
       "      <td>Nigeria</td>\n",
       "      <td>5510</td>\n",
       "      <td>Production</td>\n",
       "      <td>137</td>\n",
       "      <td>Yams</td>\n",
       "      <td>2015</td>\n",
       "      <td>2015</td>\n",
       "      <td>tonnes</td>\n",
       "      <td>45677939</td>\n",
       "      <td>NaN</td>\n",
       "      <td>Official data</td>\n",
       "    </tr>\n",
       "    <tr>\n",
       "      <th>142</th>\n",
       "      <td>QC</td>\n",
       "      <td>Crops</td>\n",
       "      <td>159</td>\n",
       "      <td>Nigeria</td>\n",
       "      <td>5510</td>\n",
       "      <td>Production</td>\n",
       "      <td>137</td>\n",
       "      <td>Yams</td>\n",
       "      <td>2016</td>\n",
       "      <td>2016</td>\n",
       "      <td>tonnes</td>\n",
       "      <td>49384352</td>\n",
       "      <td>NaN</td>\n",
       "      <td>Official data</td>\n",
       "    </tr>\n",
       "    <tr>\n",
       "      <th>143</th>\n",
       "      <td>QC</td>\n",
       "      <td>Crops</td>\n",
       "      <td>159</td>\n",
       "      <td>Nigeria</td>\n",
       "      <td>5510</td>\n",
       "      <td>Production</td>\n",
       "      <td>137</td>\n",
       "      <td>Yams</td>\n",
       "      <td>2017</td>\n",
       "      <td>2017</td>\n",
       "      <td>tonnes</td>\n",
       "      <td>47942712</td>\n",
       "      <td>Im</td>\n",
       "      <td>FAO data based on imputation methodology</td>\n",
       "    </tr>\n",
       "  </tbody>\n",
       "</table>\n",
       "</div>"
      ],
      "text/plain": [
       "    Domain Code Domain  Area Code     Area  Element Code     Element  \\\n",
       "139          QC  Crops        159  Nigeria          5510  Production   \n",
       "140          QC  Crops        159  Nigeria          5510  Production   \n",
       "141          QC  Crops        159  Nigeria          5510  Production   \n",
       "142          QC  Crops        159  Nigeria          5510  Production   \n",
       "143          QC  Crops        159  Nigeria          5510  Production   \n",
       "\n",
       "     Item Code  Item  Year Code  Year    Unit     Value Flag  \\\n",
       "139        137  Yams       2013  2013  tonnes  35618420  NaN   \n",
       "140        137  Yams       2014  2014  tonnes  45151589  NaN   \n",
       "141        137  Yams       2015  2015  tonnes  45677939  NaN   \n",
       "142        137  Yams       2016  2016  tonnes  49384352  NaN   \n",
       "143        137  Yams       2017  2017  tonnes  47942712   Im   \n",
       "\n",
       "                             Flag Description  \n",
       "139                             Official data  \n",
       "140                             Official data  \n",
       "141                             Official data  \n",
       "142                             Official data  \n",
       "143  FAO data based on imputation methodology  "
      ]
     },
     "execution_count": 53,
     "metadata": {},
     "output_type": "execute_result"
    }
   ],
   "source": [
    "data.tail()"
   ]
  },
  {
   "cell_type": "code",
   "execution_count": null,
   "metadata": {},
   "outputs": [],
   "source": []
  },
  {
   "cell_type": "code",
   "execution_count": null,
   "metadata": {},
   "outputs": [],
   "source": []
  },
  {
   "cell_type": "code",
   "execution_count": null,
   "metadata": {},
   "outputs": [],
   "source": []
  },
  {
   "cell_type": "code",
   "execution_count": null,
   "metadata": {},
   "outputs": [],
   "source": []
  },
  {
   "cell_type": "code",
   "execution_count": null,
   "metadata": {},
   "outputs": [],
   "source": []
  },
  {
   "cell_type": "code",
   "execution_count": null,
   "metadata": {},
   "outputs": [],
   "source": []
  }
 ],
 "metadata": {
  "kernelspec": {
   "display_name": "Python 3",
   "language": "python",
   "name": "python3"
  },
  "language_info": {
   "codemirror_mode": {
    "name": "ipython",
    "version": 3
   },
   "file_extension": ".py",
   "mimetype": "text/x-python",
   "name": "python",
   "nbconvert_exporter": "python",
   "pygments_lexer": "ipython3",
   "version": "3.7.1"
  }
 },
 "nbformat": 4,
 "nbformat_minor": 2
}
